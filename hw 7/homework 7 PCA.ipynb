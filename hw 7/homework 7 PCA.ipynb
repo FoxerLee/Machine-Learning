{
 "cells": [
  {
   "cell_type": "markdown",
   "metadata": {},
   "source": [
    "# Homework 7:  PCA for Movie Recommendations\n",
    "\n",
    "This assignment is a slightly modified version of one of Prof. Rangan's assignments.\n",
    "\n",
    "A common application of PCA is for recommendation systems.  In this lab, we will use PCA to create a very primitive recommendation system for movies.  Through the lab, you will learn to:\n",
    "* Represent ratings data as a sparse matrix\n",
    "* Perform PCA on the rating matrix to find reccomendations\n",
    "* Interpret PCA loadings of rating data"
   ]
  },
  {
   "cell_type": "markdown",
   "metadata": {},
   "source": [
    "## Loading the MovieLens Dataset\n",
    "\n",
    "We first load some common packages."
   ]
  },
  {
   "cell_type": "code",
   "execution_count": 1,
   "metadata": {},
   "outputs": [],
   "source": [
    "import pandas as pd\n",
    "import numpy as np\n",
    "import matplotlib.pyplot as plt\n",
    "%matplotlib inline"
   ]
  },
  {
   "cell_type": "markdown",
   "metadata": {},
   "source": [
    "[GroupLens](https://grouplens.org/) is a research organization at the University of Minnesota that has done extensive work in recommendation systems among other topics.  They have excellent datasets on movie recommendations as part of their [MovieLens project](https://movielens.org/).  In this lab, we will use a very small dataset that is useful for illustrating basic ideas.  But, if you are interested in continuing research in this area, they have much larger datasets.\n",
    "\n",
    "To get the data, go to the webpage:\n",
    "\n",
    "https://grouplens.org/datasets/movielens/latest/\n",
    "\n",
    "and download and unzip the files, `ml-data-small.zip`.  "
   ]
  },
  {
   "cell_type": "markdown",
   "metadata": {},
   "source": [
    "Once, the data is downloaded, we use the `pd.read_csv` command to load the `movies.csv` file and store the results in a pandas dataframe `movies`. The `movies` dataframe will have the title and genres of the movies that are to be rated.    We use the `head` method to print the first 5 rows of the `movies` dataframe.  "
   ]
  },
  {
   "cell_type": "code",
   "execution_count": 2,
   "metadata": {},
   "outputs": [
    {
     "name": "stdout",
     "output_type": "stream",
     "text": [
      "   movieId                               title  \\\n",
      "0        1                    Toy Story (1995)   \n",
      "1        2                      Jumanji (1995)   \n",
      "2        3             Grumpier Old Men (1995)   \n",
      "3        4            Waiting to Exhale (1995)   \n",
      "4        5  Father of the Bride Part II (1995)   \n",
      "\n",
      "                                        genres  \n",
      "0  Adventure|Animation|Children|Comedy|Fantasy  \n",
      "1                   Adventure|Children|Fantasy  \n",
      "2                               Comedy|Romance  \n",
      "3                         Comedy|Drama|Romance  \n",
      "4                                       Comedy  \n"
     ]
    }
   ],
   "source": [
    "# Read the movies \n",
    "movies = pd.read_csv('movies.csv')\n",
    "print(movies.head())"
   ]
  },
  {
   "cell_type": "markdown",
   "metadata": {},
   "source": [
    "Next we extract the following columns from the `movies` dataframe:\n",
    "*  the `movieId` column, convert to an `np.array` and store in `movie_ids`\n",
    "*   the `title` column, convert to a list (using `.tolist()`) and store in `titles`"
   ]
  },
  {
   "cell_type": "code",
   "execution_count": 3,
   "metadata": {},
   "outputs": [
    {
     "name": "stdout",
     "output_type": "stream",
     "text": [
      "[1 2 3 4 5]\n",
      "['Toy Story (1995)', 'Jumanji (1995)', 'Grumpier Old Men (1995)', 'Waiting to Exhale (1995)', 'Father of the Bride Part II (1995)']\n"
     ]
    }
   ],
   "source": [
    "# TODO:\n",
    "movie_ids = movies['movieId'].to_numpy()\n",
    "titles = movies['title'].tolist()\n",
    "print(movie_ids[0:5])\n",
    "print(titles[0:5])"
   ]
  },
  {
   "cell_type": "markdown",
   "metadata": {},
   "source": [
    "The following function returns the string of a movie title, given its movie id."
   ]
  },
  {
   "cell_type": "code",
   "execution_count": 4,
   "metadata": {},
   "outputs": [],
   "source": [
    "def get_movie_title(movie_id):\n",
    "    I = np.where(movie_ids == movie_id)[0]\n",
    "    if len(I) == 0:\n",
    "        return 'unknown'\n",
    "    else:\n",
    "        return titles[I[0]]"
   ]
  },
  {
   "cell_type": "markdown",
   "metadata": {},
   "source": [
    "Next we load the `ratings.csv` file into a `pandas` dataframe `ratings`, and use the `head` method to print the first five rows of the dataframe."
   ]
  },
  {
   "cell_type": "code",
   "execution_count": 6,
   "metadata": {},
   "outputs": [
    {
     "name": "stdout",
     "output_type": "stream",
     "text": [
      "   userId  movieId  rating  timestamp\n",
      "0       1        1     4.0  964982703\n",
      "1       1        3     4.0  964981247\n",
      "2       1        6     4.0  964982224\n",
      "3       1       47     5.0  964983815\n",
      "4       1       50     5.0  964982931\n"
     ]
    }
   ],
   "source": [
    "# \n",
    "ratings = pd.read_csv('ratings.csv')\n",
    "print(ratings.head())"
   ]
  },
  {
   "cell_type": "markdown",
   "metadata": {},
   "source": [
    "## Create a Ratings Matrix\n",
    "\n",
    "We now create a ratings matrix from the ratings using the `pivot_table` commmand as follows.  "
   ]
  },
  {
   "cell_type": "code",
   "execution_count": 7,
   "metadata": {},
   "outputs": [
    {
     "name": "stdout",
     "output_type": "stream",
     "text": [
      "<class 'pandas.core.frame.DataFrame'>\n"
     ]
    }
   ],
   "source": [
    "M = ratings.pivot_table(index=['userId'], columns=['movieId'], values='rating')\n",
    "movie_col = M.columns.tolist()\n",
    "user_row = M.index.tolist()\n",
    "print(type(M))# M is a pandas dataframe"
   ]
  },
  {
   "cell_type": "markdown",
   "metadata": {},
   "source": [
    "Display the data frame using the `M.head()` command."
   ]
  },
  {
   "cell_type": "code",
   "execution_count": 8,
   "metadata": {},
   "outputs": [
    {
     "name": "stdout",
     "output_type": "stream",
     "text": [
      "movieId  1       2       3       4       5       6       7       8       \\\n",
      "userId                                                                    \n",
      "1           4.0     NaN     4.0     NaN     NaN     4.0     NaN     NaN   \n",
      "2           NaN     NaN     NaN     NaN     NaN     NaN     NaN     NaN   \n",
      "3           NaN     NaN     NaN     NaN     NaN     NaN     NaN     NaN   \n",
      "4           NaN     NaN     NaN     NaN     NaN     NaN     NaN     NaN   \n",
      "5           4.0     NaN     NaN     NaN     NaN     NaN     NaN     NaN   \n",
      "\n",
      "movieId  9       10      ...  193565  193567  193571  193573  193579  193581  \\\n",
      "userId                   ...                                                   \n",
      "1           NaN     NaN  ...     NaN     NaN     NaN     NaN     NaN     NaN   \n",
      "2           NaN     NaN  ...     NaN     NaN     NaN     NaN     NaN     NaN   \n",
      "3           NaN     NaN  ...     NaN     NaN     NaN     NaN     NaN     NaN   \n",
      "4           NaN     NaN  ...     NaN     NaN     NaN     NaN     NaN     NaN   \n",
      "5           NaN     NaN  ...     NaN     NaN     NaN     NaN     NaN     NaN   \n",
      "\n",
      "movieId  193583  193585  193587  193609  \n",
      "userId                                   \n",
      "1           NaN     NaN     NaN     NaN  \n",
      "2           NaN     NaN     NaN     NaN  \n",
      "3           NaN     NaN     NaN     NaN  \n",
      "4           NaN     NaN     NaN     NaN  \n",
      "5           NaN     NaN     NaN     NaN  \n",
      "\n",
      "[5 rows x 9724 columns]\n"
     ]
    }
   ],
   "source": [
    "# TODO\n",
    "print(M.head())"
   ]
  },
  {
   "cell_type": "markdown",
   "metadata": {},
   "source": [
    "You shoul see that most of the entries are `NaN` since most of the movies were not rated.  A key challenge in recommendation systems is to fill these in.  \n",
    "\n",
    "For this lab, we use the `fillna` command to fill in all the `NaN` entries with zeros.  We store the filled in dataframe in `Mfill`.  To observe the changes, we print the first few rows of the new dataframe.\n",
    "\n",
    "Filling in with zeros is not the best idea, but it is simple and will be OK for this lab.  But, real recommendation do something more sophisticated called *matrix completion*."
   ]
  },
  {
   "cell_type": "code",
   "execution_count": 9,
   "metadata": {},
   "outputs": [
    {
     "name": "stdout",
     "output_type": "stream",
     "text": [
      "movieId  1       2       3       4       5       6       7       8       \\\n",
      "userId                                                                    \n",
      "1           4.0     0.0     4.0     0.0     0.0     4.0     0.0     0.0   \n",
      "2           0.0     0.0     0.0     0.0     0.0     0.0     0.0     0.0   \n",
      "3           0.0     0.0     0.0     0.0     0.0     0.0     0.0     0.0   \n",
      "4           0.0     0.0     0.0     0.0     0.0     0.0     0.0     0.0   \n",
      "5           4.0     0.0     0.0     0.0     0.0     0.0     0.0     0.0   \n",
      "\n",
      "movieId  9       10      ...  193565  193567  193571  193573  193579  193581  \\\n",
      "userId                   ...                                                   \n",
      "1           0.0     0.0  ...     0.0     0.0     0.0     0.0     0.0     0.0   \n",
      "2           0.0     0.0  ...     0.0     0.0     0.0     0.0     0.0     0.0   \n",
      "3           0.0     0.0  ...     0.0     0.0     0.0     0.0     0.0     0.0   \n",
      "4           0.0     0.0  ...     0.0     0.0     0.0     0.0     0.0     0.0   \n",
      "5           0.0     0.0  ...     0.0     0.0     0.0     0.0     0.0     0.0   \n",
      "\n",
      "movieId  193583  193585  193587  193609  \n",
      "userId                                   \n",
      "1           0.0     0.0     0.0     0.0  \n",
      "2           0.0     0.0     0.0     0.0  \n",
      "3           0.0     0.0     0.0     0.0  \n",
      "4           0.0     0.0     0.0     0.0  \n",
      "5           0.0     0.0     0.0     0.0  \n",
      "\n",
      "[5 rows x 9724 columns]\n"
     ]
    }
   ],
   "source": [
    "# \n",
    "Mfill_pd = M.fillna(0)\n",
    "print(Mfill_pd.head())"
   ]
  },
  {
   "cell_type": "markdown",
   "metadata": {},
   "source": [
    "Converting `Mfill` to an `np.array` and observing the shape of `Mfill` to find the number of users and movies."
   ]
  },
  {
   "cell_type": "code",
   "execution_count": 10,
   "metadata": {},
   "outputs": [
    {
     "name": "stdout",
     "output_type": "stream",
     "text": [
      "(610, 9724)\n"
     ]
    }
   ],
   "source": [
    "# \n",
    "Mfill = Mfill_pd.to_numpy()\n",
    "print(Mfill.shape)"
   ]
  },
  {
   "cell_type": "markdown",
   "metadata": {},
   "source": [
    "## Take a PCA of the Ratings Matrix\n",
    "\n",
    "We now take a PCA of the traings matrix.  First, create a matrix `X` formed by standardizing the matrix `Mfill`.  That is, subtract the mean and divide by the standard deviation of each column of `Mfill`."
   ]
  },
  {
   "cell_type": "code",
   "execution_count": 11,
   "metadata": {},
   "outputs": [
    {
     "name": "stdout",
     "output_type": "stream",
     "text": [
      "(610, 9724)\n",
      "[[ 2.61803279 -0.61885246  3.72213115]\n",
      " [-1.38196721 -0.61885246 -0.27786885]\n",
      " [-1.38196721 -0.61885246 -0.27786885]\n",
      " ...\n",
      " [ 1.11803279  1.38114754  1.72213115]\n",
      " [ 1.61803279 -0.61885246 -0.27786885]\n",
      " [ 3.61803279 -0.61885246 -0.27786885]]\n",
      "(9724,)\n"
     ]
    }
   ],
   "source": [
    "# TODO:  Standardize Mred\n",
    "# Mmean = ...\n",
    "Mmean = Mfill.mean(axis=0)\n",
    "# Mstd = ...\n",
    "# X = ...\n",
    "X = Mfill-Mmean\n",
    "print(X.shape)\n",
    "print(X[:,0:3])\n",
    "print(Mmean.shape)"
   ]
  },
  {
   "cell_type": "markdown",
   "metadata": {},
   "source": [
    "Now, take an SVD of X to perform the PCA.  Use the `np.linalg.svd` method with `full_matrices=False`.  Due to the size of the matrix, this make take a minute or so."
   ]
  },
  {
   "cell_type": "code",
   "execution_count": 12,
   "metadata": {},
   "outputs": [
    {
     "name": "stdout",
     "output_type": "stream",
     "text": [
      "[403.90996251 230.14059802 178.39567094 156.50520388 150.48997443\n",
      " 144.89135967 132.81284351 122.59459431 120.65731225 113.09617461\n",
      " 108.81103676 107.9284978  105.50364618 101.94357367  99.85563977\n",
      "  98.82125879  97.03821298  93.39317739  92.31933185  90.9752962\n",
      "  90.32699036  87.29629088  86.93915129  86.02538862  84.60868789\n",
      "  83.00089328  82.40306201  81.70994903  80.25963461  79.46218867]\n",
      "(610, 9724)\n",
      "(9724, 610)\n",
      "(610, 9724)\n"
     ]
    }
   ],
   "source": [
    "# TODO\n",
    "# U,S,Vt = ...\n",
    "U,S,VT = np.linalg.svd(X, full_matrices=False)\n",
    "print(S[0:30])\n",
    "print(VT.shape)\n",
    "print(VT.T.shape)\n",
    "print(X.shape)"
   ]
  },
  {
   "cell_type": "markdown",
   "metadata": {},
   "source": [
    "Plot the portion of variance as a function of the number of PCs.  In this example, you will see that the data is not that low rank.  This arises since we have filled in many entries with their mean values."
   ]
  },
  {
   "cell_type": "code",
   "execution_count": 13,
   "metadata": {},
   "outputs": [
    {
     "data": {
      "text/plain": [
       "Text(0, 0.5, 'PoV')"
      ]
     },
     "execution_count": 13,
     "metadata": {},
     "output_type": "execute_result"
    },
    {
     "data": {
      "image/png": "[encoded data removed]",
      "text/plain": [
       "<Figure size 432x288 with 1 Axes>"
      ]
     },
     "metadata": {
      "needs_background": "light"
     },
     "output_type": "display_data"
    }
   ],
   "source": [
    "# TODO Plot the PoV\n",
    "lam = S**2\n",
    "PoV = np.cumsum(lam)/np.sum(lam)\n",
    "n_samples = len(S)\n",
    "\n",
    "plt.plot(PoV)\n",
    "plt.grid()\n",
    "plt.axis([1,n_samples,0, 1.1])\n",
    "plt.xlabel('Number of PCs', fontsize=16)\n",
    "plt.ylabel('PoV', fontsize=16)\n"
   ]
  },
  {
   "cell_type": "markdown",
   "metadata": {},
   "source": [
    "## Making a Recommendation\n",
    "We can now use our PCA to make recommendations.  First, create a matrix `Xest` by taking a rank `r=50` approximation of the original matrix `X`."
   ]
  },
  {
   "cell_type": "code",
   "execution_count": 14,
   "metadata": {},
   "outputs": [
    {
     "name": "stdout",
     "output_type": "stream",
     "text": [
      "(610, 50)\n",
      "(9724, 50)\n"
     ]
    }
   ],
   "source": [
    "# TODO\n",
    "# Xest = ...\n",
    "r = 50\n",
    "Xest = X.dot(VT.T[:,0:r])\n",
    "print(Xest.shape)\n",
    "print(VT.T[:,0:r].shape)"
   ]
  },
  {
   "cell_type": "markdown",
   "metadata": {},
   "source": [
    "Now, using $V$, the mean and standard deviation from the above, compute `Mest`, the corresponding low-rank approximation of the `Xest` in the original feature space."
   ]
  },
  {
   "cell_type": "code",
   "execution_count": 15,
   "metadata": {},
   "outputs": [
    {
     "name": "stdout",
     "output_type": "stream",
     "text": [
      "(610, 9724)\n"
     ]
    }
   ],
   "source": [
    "# TODO\n",
    "# Mest = ...\n",
    "Mest = Xest.dot(VT[0:r,:])+ Mmean\n",
    "print(Mest.shape)"
   ]
  },
  {
   "cell_type": "markdown",
   "metadata": {},
   "source": [
    "Now, take some row of the estimated rating matrix, say the row with index, `ind=10`.  The predicted ratings for that user will be in `Mest[ind,:]`.  Find the 20 indices `j` where `Mest[ind,j]` is the largest.  For each `j`, print:\n",
    "* movie title \n",
    "* the predicted rating `Mest[ind,j]`\n",
    "* the actual rating `Mfill[ind,j]`\n",
    "\n",
    "Note that you must use  `movie_col` and `get_movie_title()` to find the movie title. \n",
    "\n",
    "You will notice that the predicted rating is very low.  This is because we filled in the unknown entries with zeros.  But, you should see that the values of `Mest` that are large correspond to movies that the user should rate well (4 or 5)."
   ]
  },
  {
   "cell_type": "code",
   "execution_count": 16,
   "metadata": {},
   "outputs": [
    {
     "name": "stdout",
     "output_type": "stream",
     "text": [
      "0.5866804029860995 0.0\n",
      "0.40445320178832517 0.0\n",
      "0.017929815646928783 0.0\n",
      "0.3953060519656464 0.0\n",
      "1.5954056861707433 5.0\n",
      "0.6465068241335734 0.0\n",
      "0.04746380637337984 0.0\n",
      "0.3605573246351112 0.0\n",
      "1.813895842375683 3.0\n",
      "1.0932036781063974 0.0\n",
      "0.16726309988946875 0.0\n",
      "-0.09605134135432747 0.0\n",
      "0.3339385218947286 0.0\n",
      "0.08470134926809639 0.0\n",
      "-0.011684395082675936 0.0\n",
      "0.6155355030530212 0.0\n",
      "0.042403051937045036 0.0\n",
      "0.24089138452371922 0.0\n",
      "0.19316350812841643 0.0\n",
      "0.8643742812094457 0.0\n",
      "0.33185317636321954 0.0\n",
      "0.1061464323439414 0.0\n",
      "0.07299643816424027 0.0\n",
      "0.5610458135161572 0.0\n",
      "0.07607587734868168 0.0\n",
      "0.08131035758911732 0.0\n",
      "0.009287507839060224 0.0\n",
      "-0.10419792271604167 0.0\n",
      "-0.09879526769975265 0.0\n",
      "0.04794972482558385 0.0\n",
      "1.0521964213222428 0.0\n",
      "0.6941934499294639 0.0\n",
      "0.6883413866186427 4.0\n",
      "0.039915570302982706 0.0\n",
      "0.3393695401595968 0.0\n",
      "0.025525350215292904 0.0\n",
      "0.25349047895784316 0.0\n",
      "0.15577544794414283 0.0\n",
      "0.11343295536990317 0.0\n",
      "0.29333339231444994 2.0\n",
      "0.23892485678065795 0.0\n",
      "0.17567682728249556 0.0\n",
      "1.7390657665240628 0.0\n",
      "-7.871122225372451e-05 0.0\n",
      "0.030406022666253377 0.0\n",
      "0.697403370973949 0.0\n",
      "0.4080142403038589 0.0\n",
      "-0.05948970796286994 0.0\n",
      "-0.014684224378570643 0.0\n",
      "-0.004583913759700449 0.0\n",
      "0.02487726548691102 0.0\n",
      "0.23825558390365886 0.0\n",
      "0.04544089620662595 0.0\n",
      "0.13638093666066622 0.0\n",
      "0.931336735939282 0.0\n",
      "-0.044999127420309745 0.0\n",
      "0.040763117695551805 0.0\n",
      "0.06042381431340181 0.0\n",
      "0.10806980180438332 0.0\n",
      "-0.001768435210691685 0.0\n",
      "0.22002109776999332 0.0\n",
      "0.17789910316356558 0.0\n",
      "0.035325404546562446 0.0\n",
      "-0.07747090115741023 0.0\n",
      "0.049961577696781265 0.0\n",
      "0.18263176870947445 0.0\n",
      "0.010481864048444544 0.0\n",
      "0.15792879459344966 0.0\n",
      "-0.058342354840217006 0.0\n",
      "0.02148396713460342 0.0\n",
      "0.27190161096693344 0.0\n",
      "-0.06386658639552442 0.0\n",
      "0.24815844068260456 0.0\n",
      "-0.059282893040982616 0.0\n",
      "0.00955555265693625 0.0\n",
      "-0.09044875725003937 0.0\n",
      "0.5301634592171123 0.0\n",
      "0.037579502797367215 0.0\n",
      "-0.09047499499639527 0.0\n",
      "0.10592485425605092 0.0\n",
      "-0.017631217876892022 0.0\n",
      "0.01618327263959579 0.0\n",
      "0.05357473166798181 0.0\n",
      "1.2865678536940668 3.0\n",
      "0.02685847854633528 0.0\n",
      "0.006648945751034488 0.0\n",
      "-0.07985719722512316 0.0\n",
      "0.17320774959540514 0.0\n",
      "-0.047548613797558065 0.0\n",
      "0.023309671520463215 0.0\n",
      "0.06680090044472671 0.0\n",
      "0.6607540784834427 0.0\n",
      "0.18786234145245728 0.0\n",
      "-0.01663629382986198 0.0\n",
      "-0.23954560572771544 0.0\n",
      "-0.058342354840217645 0.0\n",
      "3.477680938703747 5.0\n",
      "-0.13449426905636663 0.0\n",
      "0.7856780769024838 0.0\n"
     ]
    }
   ],
   "source": [
    "ind = 10   # Row index\n",
    "ntop = 20  # Print the ntop movie recommendations\n",
    "\n",
    "row = Mest[ind]\n",
    "new_movie = Mest[ind]-Mfill[ind]\n",
    "for i in range(1, 100):\n",
    "   print(Mest[ind,i], Mfill[ind,i])"
   ]
  },
  {
   "cell_type": "markdown",
   "metadata": {},
   "source": [
    "To evaluate if these are *good ratings*, we could split the data into training and test.  Then, we would fit the PCA on the training data, and then compare the predicted ratings on the test data.  But, we won't do this here."
   ]
  },
  {
   "cell_type": "markdown",
   "metadata": {},
   "source": [
    "## Interpreting the PCs\n",
    "\n",
    "It is useful to examine the principal components to see which movies figure prominently in each component.  Recall that the `i-th` PC is in the vector, `Vt[i,:]`.  For the top `npc=4` principal components, find the indices `j` where `Vt[i,j]` has the largest absolute value and print the corresponding movie titles.  \n",
    "\n",
    "Ideally, each PC would correspond to some aspect of the movies and hence the movies with the highest loading values in the same PC will have some common aspect.  Since we did a very simple completion, we may not see such a grouping here."
   ]
  },
  {
   "cell_type": "code",
   "execution_count": null,
   "metadata": {},
   "outputs": [],
   "source": [
    "# TODO\n",
    "npc = 4\n",
    "ntop = 5"
   ]
  },
  {
   "cell_type": "markdown",
   "metadata": {},
   "source": [
    "## More Fun\n",
    "\n",
    "Recommendation systems is a large area in machine learning.  If you want to explore more, you can do the following:\n",
    "* Most importantly, you will want to do something better than filling in the unrated items with zeros.  One popular method is called *low-rank matrix completion*.  There are several excellent packages on python for this now\n",
    "* Use larger datasets in the MovieLens projects.  They have sets with 1 million entries!  \n",
    "* To move to larger datasets, you will need to use sparse matrices for the storage.\n",
    "* You can also explore `sklearn`'s `PCA` package instead of performing the PCA manually."
   ]
  },
  {
   "cell_type": "code",
   "execution_count": null,
   "metadata": {},
   "outputs": [],
   "source": []
  }
 ],
 "metadata": {
  "kernelspec": {
   "display_name": "Python 3",
   "language": "python",
   "name": "python3"
  },
  "language_info": {
   "codemirror_mode": {
    "name": "ipython",
    "version": 3
   },
   "file_extension": ".py",
   "mimetype": "text/x-python",
   "name": "python",
   "nbconvert_exporter": "python",
   "pygments_lexer": "ipython3",
   "version": "3.7.1"
  }
 },
 "nbformat": 4,
 "nbformat_minor": 2
}
